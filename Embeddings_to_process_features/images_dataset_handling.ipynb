{
 "cells": [
  {
   "cell_type": "code",
   "execution_count": 41,
   "metadata": {},
   "outputs": [],
   "source": [
    "from PIL import Image, ImageDraw\n",
    "import os\n",
    "import re, string\n",
    "import cv2\n",
    "import os\n",
    "import fnmatch\n",
    "from tqdm import tqdm\n",
    "\n",
    "def ls(path):\n",
    "    ls = [f for f in os.listdir(path)]\n",
    "    print(ls)\n",
    "    return ls\n",
    "    \n",
    "def cd(path):\n",
    "    os.chdir(path)\n",
    "    cwd = os.getcwd()\n",
    "    print(\"In directory:\", cwd)\n",
    "\n",
    "def mkdir(directory):\n",
    "    if not os.path.exists(directory):\n",
    "        os.makedirs(directory)"
   ]
  },
  {
   "cell_type": "code",
   "execution_count": 42,
   "metadata": {},
   "outputs": [],
   "source": [
    "directory_100Kimages = \"/home/kangeunsu/CelebAHQ_generated_images/200-celebahq-1024x1024/100k_generated/\"\n",
    "resized_directory = \"/home/kangeunsu/CelebAHQ_generated_images/200-celebahq-1024x1024/100k_resized_generated/\"\n",
    "\n",
    "assert directory_100Kimages[-1] == \"/\"\n",
    "assert resized_directory[-1] == \"/\"\n",
    "\n",
    "mkdir(resized_directory)"
   ]
  },
  {
   "cell_type": "code",
   "execution_count": 43,
   "metadata": {
    "scrolled": true
   },
   "outputs": [
    {
     "name": "stdout",
     "output_type": "stream",
     "text": [
      "100000\n"
     ]
    }
   ],
   "source": [
    "# load images\n",
    "files = sorted(os.listdir(directory_100Kimages))\n",
    "png_files = fnmatch.filter(files, '*.png')\n",
    "full_paths = [directory_100Kimages+file for file in png_files]\n",
    "print(len(full_paths))"
   ]
  },
  {
   "cell_type": "code",
   "execution_count": 48,
   "metadata": {},
   "outputs": [
    {
     "name": "stderr",
     "output_type": "stream",
     "text": [
      "100%|██████████| 92700/92700 [4:47:54<00:00,  5.37it/s]  \n"
     ]
    }
   ],
   "source": [
    "def resizeImage(infile, output_dir=\"\", size=(256,256)):\n",
    "    img_name = os.path.basename(infile)\n",
    "\n",
    "    img = cv2.imread(infile)\n",
    "    #print(img.shape)\n",
    "    img = cv2.resize(img, size, interpolation=cv2.INTER_CUBIC)\n",
    "    #print(img.shape)\n",
    "    \n",
    "    cv2.imwrite(output_dir+img_name,img)\n",
    "\n",
    "subset = full_paths[7300:]\n",
    "for img_path in tqdm(subset):\n",
    "    resizeImage(img_path, resized_directory)\n"
   ]
  },
  {
   "cell_type": "code",
   "execution_count": null,
   "metadata": {},
   "outputs": [],
   "source": [
    "ls(resized_directory)"
   ]
  },
  {
   "cell_type": "code",
   "execution_count": 49,
   "metadata": {},
   "outputs": [
    {
     "name": "stdout",
     "output_type": "stream",
     "text": [
      "100000\n",
      "['/home/kangeunsu/CelebAHQ_generated_images/200-celebahq-1024x1024/100k_generated/000000.png', '/home/kangeunsu/CelebAHQ_generated_images/200-celebahq-1024x1024/100k_generated/000001.png', '/home/kangeunsu/CelebAHQ_generated_images/200-celebahq-1024x1024/100k_generated/000002.png', '/home/kangeunsu/CelebAHQ_generated_images/200-celebahq-1024x1024/100k_generated/000003.png', '/home/kangeunsu/CelebAHQ_generated_images/200-celebahq-1024x1024/100k_generated/000004.png']\n",
      "['/home/kangeunsu/CelebAHQ_generated_images/200-celebahq-1024x1024/100k_generated/099995.png', '/home/kangeunsu/CelebAHQ_generated_images/200-celebahq-1024x1024/100k_generated/099996.png', '/home/kangeunsu/CelebAHQ_generated_images/200-celebahq-1024x1024/100k_generated/099997.png', '/home/kangeunsu/CelebAHQ_generated_images/200-celebahq-1024x1024/100k_generated/099998.png', '/home/kangeunsu/CelebAHQ_generated_images/200-celebahq-1024x1024/100k_generated/099999.png']\n"
     ]
    }
   ],
   "source": [
    "files = sorted(os.listdir(resized_directory))\n",
    "tmp1 = fnmatch.filter(files, '*.png')\n",
    "tmp2 = [directory_100Kimages+file for file in tmp1]\n",
    "print(len(tmp2))\n",
    "print(tmp2[0:5])\n",
    "print(tmp2[-5:])"
   ]
  },
  {
   "cell_type": "code",
   "execution_count": null,
   "metadata": {},
   "outputs": [],
   "source": []
  }
 ],
 "metadata": {
  "kernelspec": {
   "display_name": "Python 2",
   "language": "python",
   "name": "python2"
  }
 },
 "nbformat": 4,
 "nbformat_minor": 2
}
